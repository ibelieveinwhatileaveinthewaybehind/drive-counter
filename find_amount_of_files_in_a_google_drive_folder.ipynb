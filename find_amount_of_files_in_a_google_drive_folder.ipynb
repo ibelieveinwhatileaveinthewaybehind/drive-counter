{
  "nbformat": 4,
  "nbformat_minor": 0,
  "metadata": {
    "colab": {
      "name": "find amount of files in a google drive folder.ipynb",
      "provenance": [],
      "collapsed_sections": []
    },
    "kernelspec": {
      "name": "python3",
      "display_name": "Python 3"
    },
    "language_info": {
      "name": "python"
    }
  },
  "cells": [
    {
      "cell_type": "markdown",
      "metadata": {
        "id": "7De0V_5Qg7X0"
      },
      "source": [
        "Mount your drive:"
      ]
    },
    {
      "cell_type": "code",
      "metadata": {
        "id": "qIOvUDvCeWaW"
      },
      "source": [
        "from google.colab import drive\n",
        "drive.mount(\"/content/gdrive/\")"
      ],
      "execution_count": null,
      "outputs": []
    },
    {
      "cell_type": "markdown",
      "metadata": {
        "id": "p5SdcskKh1xF"
      },
      "source": [
        "Find out where you want the operation to start at:"
      ]
    },
    {
      "cell_type": "code",
      "metadata": {
        "id": "pfc9UV7LhtjW"
      },
      "source": [
        "!ls \"/content/gdrive\"\n",
        "# make sure to explore for the path!"
      ],
      "execution_count": null,
      "outputs": []
    },
    {
      "cell_type": "markdown",
      "metadata": {
        "id": "7XL5AKjPh_VH"
      },
      "source": [
        "Input that path here and find out how many files are in the directory:"
      ]
    },
    {
      "cell_type": "code",
      "metadata": {
        "id": "CCyERCwihsjg"
      },
      "source": [
        "!path=\"/content/gdrive/Shareddrives\"\n",
        "!find $path -type f | wc -l"
      ],
      "execution_count": null,
      "outputs": []
    }
  ]
}